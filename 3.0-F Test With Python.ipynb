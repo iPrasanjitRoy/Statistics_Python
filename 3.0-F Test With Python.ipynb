{
 "cells": [
  {
   "cell_type": "code",
   "execution_count": 1,
   "id": "13d3e85e-7496-4d9d-aae7-2f785cc15b5b",
   "metadata": {},
   "outputs": [
    {
     "data": {
      "text/plain": [
       "4.387122002085506"
      ]
     },
     "execution_count": 1,
     "metadata": {},
     "output_type": "execute_result"
    }
   ],
   "source": [
    "# Evidence To Say That The Two Population Variances Are Not Equal.............................\n",
    "\n",
    "worker1= [18, 19, 22, 25, 27, 28, 41, 45, 51, 55]\n",
    "worker2= [14, 15, 15, 17, 18, 22, 25, 25, 27, 34] \n",
    "\n",
    "## Calaculating F-Test................................................................................\n",
    "import numpy as np\n",
    "f_test=np.var(worker1)/np.var(worker2) \n",
    "f_test "
   ]
  },
  {
   "cell_type": "code",
   "execution_count": 2,
   "id": "793e6182-a1db-4e6b-92fb-573a94b269ce",
   "metadata": {},
   "outputs": [
    {
     "data": {
      "text/plain": [
       "3.178893104458269"
      ]
     },
     "execution_count": 2,
     "metadata": {},
     "output_type": "execute_result"
    }
   ],
   "source": [
    "## Degree OF Freedom...........................................................................\n",
    "df1=len(worker1)-1\n",
    "df2=len(worker2)-1\n",
    "signifance_value=0.05 \n",
    "\n",
    "\n",
    "import scipy.stats as stat \n",
    "critical_value=stat.f.ppf(q=1-signifance_value,dfn=df1,dfd=df2)\n",
    "critical_value "
   ]
  },
  {
   "cell_type": "code",
   "execution_count": 3,
   "id": "5f715927-a76e-4a1c-816e-87baccdc83e1",
   "metadata": {},
   "outputs": [
    {
     "name": "stdout",
     "output_type": "stream",
     "text": [
      "Reject The Null Hypothesis\n"
     ]
    }
   ],
   "source": [
    "if f_test>critical_value:\n",
    "    print(\"Reject The Null Hypothesis\")\n",
    "else:\n",
    "    print(\"We fail To Reject The Null Hypothesis\") \n",
    "\n"
   ]
  },
  {
   "cell_type": "code",
   "execution_count": null,
   "id": "b3757b81-d0ed-4a93-a0de-725d82131015",
   "metadata": {},
   "outputs": [],
   "source": []
  }
 ],
 "metadata": {
  "kernelspec": {
   "display_name": "Python 3 (ipykernel)",
   "language": "python",
   "name": "python3"
  },
  "language_info": {
   "codemirror_mode": {
    "name": "ipython",
    "version": 3
   },
   "file_extension": ".py",
   "mimetype": "text/x-python",
   "name": "python",
   "nbconvert_exporter": "python",
   "pygments_lexer": "ipython3",
   "version": "3.10.8"
  }
 },
 "nbformat": 4,
 "nbformat_minor": 5
}
